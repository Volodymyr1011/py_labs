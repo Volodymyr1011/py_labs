{
 "cells": [
  {
   "cell_type": "code",
   "execution_count": 1,
   "id": "9d3bac13",
   "metadata": {},
   "outputs": [
    {
     "name": "stdout",
     "output_type": "stream",
     "text": [
      "3\n"
     ]
    }
   ],
   "source": [
    "N = (8 + 4 ) % 5 + 1 \n",
    "print(N)"
   ]
  },
  {
   "cell_type": "markdown",
   "id": "48f931d2",
   "metadata": {},
   "source": [
    "### Варіант 3. Номери вправ: 1, 2, 4, 5, 6, 7, 8, 9, 10, 11, 12, 18, 19, 20, 21, 23, 25, 27"
   ]
  },
  {
   "cell_type": "code",
   "execution_count": 2,
   "id": "601cd83b",
   "metadata": {},
   "outputs": [],
   "source": [
    "import numpy as np\n",
    "import pandas as pd\n",
    "from geopy.distance import distance\n",
    "import csv\n",
    "\n",
    "df = pd.read_csv(r'D:\\py\\NationalNames.csv')"
   ]
  },
  {
   "cell_type": "markdown",
   "id": "78e6c840",
   "metadata": {},
   "source": [
    "### 1. Виведіть перші 8 рядків набору даних."
   ]
  },
  {
   "cell_type": "code",
   "execution_count": 3,
   "id": "13206c94",
   "metadata": {},
   "outputs": [
    {
     "data": {
      "text/html": [
       "<div>\n",
       "<style scoped>\n",
       "    .dataframe tbody tr th:only-of-type {\n",
       "        vertical-align: middle;\n",
       "    }\n",
       "\n",
       "    .dataframe tbody tr th {\n",
       "        vertical-align: top;\n",
       "    }\n",
       "\n",
       "    .dataframe thead th {\n",
       "        text-align: right;\n",
       "    }\n",
       "</style>\n",
       "<table border=\"1\" class=\"dataframe\">\n",
       "  <thead>\n",
       "    <tr style=\"text-align: right;\">\n",
       "      <th></th>\n",
       "      <th>Id</th>\n",
       "      <th>Name</th>\n",
       "      <th>Year</th>\n",
       "      <th>Gender</th>\n",
       "      <th>Count</th>\n",
       "    </tr>\n",
       "  </thead>\n",
       "  <tbody>\n",
       "    <tr>\n",
       "      <th>0</th>\n",
       "      <td>1</td>\n",
       "      <td>Mary</td>\n",
       "      <td>1880</td>\n",
       "      <td>F</td>\n",
       "      <td>7065</td>\n",
       "    </tr>\n",
       "    <tr>\n",
       "      <th>1</th>\n",
       "      <td>2</td>\n",
       "      <td>Anna</td>\n",
       "      <td>1880</td>\n",
       "      <td>F</td>\n",
       "      <td>2604</td>\n",
       "    </tr>\n",
       "    <tr>\n",
       "      <th>2</th>\n",
       "      <td>3</td>\n",
       "      <td>Emma</td>\n",
       "      <td>1880</td>\n",
       "      <td>F</td>\n",
       "      <td>2003</td>\n",
       "    </tr>\n",
       "    <tr>\n",
       "      <th>3</th>\n",
       "      <td>4</td>\n",
       "      <td>Elizabeth</td>\n",
       "      <td>1880</td>\n",
       "      <td>F</td>\n",
       "      <td>1939</td>\n",
       "    </tr>\n",
       "    <tr>\n",
       "      <th>4</th>\n",
       "      <td>5</td>\n",
       "      <td>Minnie</td>\n",
       "      <td>1880</td>\n",
       "      <td>F</td>\n",
       "      <td>1746</td>\n",
       "    </tr>\n",
       "    <tr>\n",
       "      <th>5</th>\n",
       "      <td>6</td>\n",
       "      <td>Margaret</td>\n",
       "      <td>1880</td>\n",
       "      <td>F</td>\n",
       "      <td>1578</td>\n",
       "    </tr>\n",
       "    <tr>\n",
       "      <th>6</th>\n",
       "      <td>7</td>\n",
       "      <td>Ida</td>\n",
       "      <td>1880</td>\n",
       "      <td>F</td>\n",
       "      <td>1472</td>\n",
       "    </tr>\n",
       "    <tr>\n",
       "      <th>7</th>\n",
       "      <td>8</td>\n",
       "      <td>Alice</td>\n",
       "      <td>1880</td>\n",
       "      <td>F</td>\n",
       "      <td>1414</td>\n",
       "    </tr>\n",
       "  </tbody>\n",
       "</table>\n",
       "</div>"
      ],
      "text/plain": [
       "   Id       Name  Year Gender  Count\n",
       "0   1       Mary  1880      F   7065\n",
       "1   2       Anna  1880      F   2604\n",
       "2   3       Emma  1880      F   2003\n",
       "3   4  Elizabeth  1880      F   1939\n",
       "4   5     Minnie  1880      F   1746\n",
       "5   6   Margaret  1880      F   1578\n",
       "6   7        Ida  1880      F   1472\n",
       "7   8      Alice  1880      F   1414"
      ]
     },
     "execution_count": 3,
     "metadata": {},
     "output_type": "execute_result"
    }
   ],
   "source": [
    "#1\n",
    "df.head(8)"
   ]
  },
  {
   "cell_type": "markdown",
   "id": "b32f3d53",
   "metadata": {},
   "source": [
    "### 2. Виведіть останні 8 рядків набору даних."
   ]
  },
  {
   "cell_type": "code",
   "execution_count": 4,
   "id": "3b2d7690",
   "metadata": {},
   "outputs": [
    {
     "data": {
      "text/html": [
       "<div>\n",
       "<style scoped>\n",
       "    .dataframe tbody tr th:only-of-type {\n",
       "        vertical-align: middle;\n",
       "    }\n",
       "\n",
       "    .dataframe tbody tr th {\n",
       "        vertical-align: top;\n",
       "    }\n",
       "\n",
       "    .dataframe thead th {\n",
       "        text-align: right;\n",
       "    }\n",
       "</style>\n",
       "<table border=\"1\" class=\"dataframe\">\n",
       "  <thead>\n",
       "    <tr style=\"text-align: right;\">\n",
       "      <th></th>\n",
       "      <th>Id</th>\n",
       "      <th>Name</th>\n",
       "      <th>Year</th>\n",
       "      <th>Gender</th>\n",
       "      <th>Count</th>\n",
       "    </tr>\n",
       "  </thead>\n",
       "  <tbody>\n",
       "    <tr>\n",
       "      <th>1825425</th>\n",
       "      <td>1825426</td>\n",
       "      <td>Zo</td>\n",
       "      <td>2014</td>\n",
       "      <td>M</td>\n",
       "      <td>5</td>\n",
       "    </tr>\n",
       "    <tr>\n",
       "      <th>1825426</th>\n",
       "      <td>1825427</td>\n",
       "      <td>Zyeir</td>\n",
       "      <td>2014</td>\n",
       "      <td>M</td>\n",
       "      <td>5</td>\n",
       "    </tr>\n",
       "    <tr>\n",
       "      <th>1825427</th>\n",
       "      <td>1825428</td>\n",
       "      <td>Zyel</td>\n",
       "      <td>2014</td>\n",
       "      <td>M</td>\n",
       "      <td>5</td>\n",
       "    </tr>\n",
       "    <tr>\n",
       "      <th>1825428</th>\n",
       "      <td>1825429</td>\n",
       "      <td>Zykeem</td>\n",
       "      <td>2014</td>\n",
       "      <td>M</td>\n",
       "      <td>5</td>\n",
       "    </tr>\n",
       "    <tr>\n",
       "      <th>1825429</th>\n",
       "      <td>1825430</td>\n",
       "      <td>Zymeer</td>\n",
       "      <td>2014</td>\n",
       "      <td>M</td>\n",
       "      <td>5</td>\n",
       "    </tr>\n",
       "    <tr>\n",
       "      <th>1825430</th>\n",
       "      <td>1825431</td>\n",
       "      <td>Zymiere</td>\n",
       "      <td>2014</td>\n",
       "      <td>M</td>\n",
       "      <td>5</td>\n",
       "    </tr>\n",
       "    <tr>\n",
       "      <th>1825431</th>\n",
       "      <td>1825432</td>\n",
       "      <td>Zyran</td>\n",
       "      <td>2014</td>\n",
       "      <td>M</td>\n",
       "      <td>5</td>\n",
       "    </tr>\n",
       "    <tr>\n",
       "      <th>1825432</th>\n",
       "      <td>1825433</td>\n",
       "      <td>Zyrin</td>\n",
       "      <td>2014</td>\n",
       "      <td>M</td>\n",
       "      <td>5</td>\n",
       "    </tr>\n",
       "  </tbody>\n",
       "</table>\n",
       "</div>"
      ],
      "text/plain": [
       "              Id     Name  Year Gender  Count\n",
       "1825425  1825426       Zo  2014      M      5\n",
       "1825426  1825427    Zyeir  2014      M      5\n",
       "1825427  1825428     Zyel  2014      M      5\n",
       "1825428  1825429   Zykeem  2014      M      5\n",
       "1825429  1825430   Zymeer  2014      M      5\n",
       "1825430  1825431  Zymiere  2014      M      5\n",
       "1825431  1825432    Zyran  2014      M      5\n",
       "1825432  1825433    Zyrin  2014      M      5"
      ]
     },
     "execution_count": 4,
     "metadata": {},
     "output_type": "execute_result"
    }
   ],
   "source": [
    "#2\n",
    "df.tail(8)"
   ]
  },
  {
   "cell_type": "markdown",
   "id": "7e664e40",
   "metadata": {},
   "source": [
    "### 4. Отримайте загальну інформацію про дані у наборі даних."
   ]
  },
  {
   "cell_type": "code",
   "execution_count": 5,
   "id": "33ecbce6",
   "metadata": {},
   "outputs": [
    {
     "data": {
      "text/html": [
       "<div>\n",
       "<style scoped>\n",
       "    .dataframe tbody tr th:only-of-type {\n",
       "        vertical-align: middle;\n",
       "    }\n",
       "\n",
       "    .dataframe tbody tr th {\n",
       "        vertical-align: top;\n",
       "    }\n",
       "\n",
       "    .dataframe thead th {\n",
       "        text-align: right;\n",
       "    }\n",
       "</style>\n",
       "<table border=\"1\" class=\"dataframe\">\n",
       "  <thead>\n",
       "    <tr style=\"text-align: right;\">\n",
       "      <th></th>\n",
       "      <th>Id</th>\n",
       "      <th>Year</th>\n",
       "      <th>Count</th>\n",
       "    </tr>\n",
       "  </thead>\n",
       "  <tbody>\n",
       "    <tr>\n",
       "      <th>count</th>\n",
       "      <td>1.825433e+06</td>\n",
       "      <td>1.825433e+06</td>\n",
       "      <td>1.825433e+06</td>\n",
       "    </tr>\n",
       "    <tr>\n",
       "      <th>mean</th>\n",
       "      <td>9.127170e+05</td>\n",
       "      <td>1.972620e+03</td>\n",
       "      <td>1.846879e+02</td>\n",
       "    </tr>\n",
       "    <tr>\n",
       "      <th>std</th>\n",
       "      <td>5.269573e+05</td>\n",
       "      <td>3.352891e+01</td>\n",
       "      <td>1.566711e+03</td>\n",
       "    </tr>\n",
       "    <tr>\n",
       "      <th>min</th>\n",
       "      <td>1.000000e+00</td>\n",
       "      <td>1.880000e+03</td>\n",
       "      <td>5.000000e+00</td>\n",
       "    </tr>\n",
       "    <tr>\n",
       "      <th>25%</th>\n",
       "      <td>4.563590e+05</td>\n",
       "      <td>1.949000e+03</td>\n",
       "      <td>7.000000e+00</td>\n",
       "    </tr>\n",
       "    <tr>\n",
       "      <th>50%</th>\n",
       "      <td>9.127170e+05</td>\n",
       "      <td>1.982000e+03</td>\n",
       "      <td>1.200000e+01</td>\n",
       "    </tr>\n",
       "    <tr>\n",
       "      <th>75%</th>\n",
       "      <td>1.369075e+06</td>\n",
       "      <td>2.001000e+03</td>\n",
       "      <td>3.200000e+01</td>\n",
       "    </tr>\n",
       "    <tr>\n",
       "      <th>max</th>\n",
       "      <td>1.825433e+06</td>\n",
       "      <td>2.014000e+03</td>\n",
       "      <td>9.968000e+04</td>\n",
       "    </tr>\n",
       "  </tbody>\n",
       "</table>\n",
       "</div>"
      ],
      "text/plain": [
       "                 Id          Year         Count\n",
       "count  1.825433e+06  1.825433e+06  1.825433e+06\n",
       "mean   9.127170e+05  1.972620e+03  1.846879e+02\n",
       "std    5.269573e+05  3.352891e+01  1.566711e+03\n",
       "min    1.000000e+00  1.880000e+03  5.000000e+00\n",
       "25%    4.563590e+05  1.949000e+03  7.000000e+00\n",
       "50%    9.127170e+05  1.982000e+03  1.200000e+01\n",
       "75%    1.369075e+06  2.001000e+03  3.200000e+01\n",
       "max    1.825433e+06  2.014000e+03  9.968000e+04"
      ]
     },
     "execution_count": 5,
     "metadata": {},
     "output_type": "execute_result"
    }
   ],
   "source": [
    "#4\n",
    "df.describe()"
   ]
  },
  {
   "cell_type": "markdown",
   "id": "2727a5d6",
   "metadata": {},
   "source": [
    "### 5. Знайдіть кількість унікальних імен у наборі даних."
   ]
  },
  {
   "cell_type": "code",
   "execution_count": 6,
   "id": "9764205f",
   "metadata": {},
   "outputs": [
    {
     "data": {
      "text/plain": [
       "93889"
      ]
     },
     "execution_count": 6,
     "metadata": {},
     "output_type": "execute_result"
    }
   ],
   "source": [
    "#5\n",
    "df['Name'].nunique()"
   ]
  },
  {
   "cell_type": "markdown",
   "id": "b20bcd70",
   "metadata": {},
   "source": [
    "### 6. Обчисліть кількість унікальних жіночих та чоловічих імен у цілому наборі даних."
   ]
  },
  {
   "cell_type": "code",
   "execution_count": 7,
   "id": "ff720c51",
   "metadata": {},
   "outputs": [
    {
     "data": {
      "text/html": [
       "<div>\n",
       "<style scoped>\n",
       "    .dataframe tbody tr th:only-of-type {\n",
       "        vertical-align: middle;\n",
       "    }\n",
       "\n",
       "    .dataframe tbody tr th {\n",
       "        vertical-align: top;\n",
       "    }\n",
       "\n",
       "    .dataframe thead th {\n",
       "        text-align: right;\n",
       "    }\n",
       "</style>\n",
       "<table border=\"1\" class=\"dataframe\">\n",
       "  <thead>\n",
       "    <tr style=\"text-align: right;\">\n",
       "      <th></th>\n",
       "      <th>Name</th>\n",
       "    </tr>\n",
       "    <tr>\n",
       "      <th>Gender</th>\n",
       "      <th></th>\n",
       "    </tr>\n",
       "  </thead>\n",
       "  <tbody>\n",
       "    <tr>\n",
       "      <th>F</th>\n",
       "      <td>64911</td>\n",
       "    </tr>\n",
       "    <tr>\n",
       "      <th>M</th>\n",
       "      <td>39199</td>\n",
       "    </tr>\n",
       "  </tbody>\n",
       "</table>\n",
       "</div>"
      ],
      "text/plain": [
       "         Name\n",
       "Gender       \n",
       "F       64911\n",
       "M       39199"
      ]
     },
     "execution_count": 7,
     "metadata": {},
     "output_type": "execute_result"
    }
   ],
   "source": [
    "#6\n",
    "df.groupby('Gender')[['Name']].nunique()"
   ]
  },
  {
   "cell_type": "markdown",
   "id": "cb05638d",
   "metadata": {},
   "source": [
    "### 7. Знайдіть 5 найпопулярніших чоловічих імен у 2010 році."
   ]
  },
  {
   "cell_type": "code",
   "execution_count": 8,
   "id": "bd04b8d9",
   "metadata": {},
   "outputs": [
    {
     "data": {
      "text/html": [
       "<div>\n",
       "<style scoped>\n",
       "    .dataframe tbody tr th:only-of-type {\n",
       "        vertical-align: middle;\n",
       "    }\n",
       "\n",
       "    .dataframe tbody tr th {\n",
       "        vertical-align: top;\n",
       "    }\n",
       "\n",
       "    .dataframe thead th {\n",
       "        text-align: right;\n",
       "    }\n",
       "</style>\n",
       "<table border=\"1\" class=\"dataframe\">\n",
       "  <thead>\n",
       "    <tr style=\"text-align: right;\">\n",
       "      <th></th>\n",
       "      <th>Id</th>\n",
       "      <th>Name</th>\n",
       "      <th>Year</th>\n",
       "      <th>Gender</th>\n",
       "      <th>Count</th>\n",
       "    </tr>\n",
       "  </thead>\n",
       "  <tbody>\n",
       "    <tr>\n",
       "      <th>1677392</th>\n",
       "      <td>1677393</td>\n",
       "      <td>Jacob</td>\n",
       "      <td>2010</td>\n",
       "      <td>M</td>\n",
       "      <td>22082</td>\n",
       "    </tr>\n",
       "    <tr>\n",
       "      <th>1677393</th>\n",
       "      <td>1677394</td>\n",
       "      <td>Ethan</td>\n",
       "      <td>2010</td>\n",
       "      <td>M</td>\n",
       "      <td>17985</td>\n",
       "    </tr>\n",
       "    <tr>\n",
       "      <th>1677394</th>\n",
       "      <td>1677395</td>\n",
       "      <td>Michael</td>\n",
       "      <td>2010</td>\n",
       "      <td>M</td>\n",
       "      <td>17308</td>\n",
       "    </tr>\n",
       "    <tr>\n",
       "      <th>1677395</th>\n",
       "      <td>1677396</td>\n",
       "      <td>Jayden</td>\n",
       "      <td>2010</td>\n",
       "      <td>M</td>\n",
       "      <td>17152</td>\n",
       "    </tr>\n",
       "    <tr>\n",
       "      <th>1677396</th>\n",
       "      <td>1677397</td>\n",
       "      <td>William</td>\n",
       "      <td>2010</td>\n",
       "      <td>M</td>\n",
       "      <td>17030</td>\n",
       "    </tr>\n",
       "  </tbody>\n",
       "</table>\n",
       "</div>"
      ],
      "text/plain": [
       "              Id     Name  Year Gender  Count\n",
       "1677392  1677393    Jacob  2010      M  22082\n",
       "1677393  1677394    Ethan  2010      M  17985\n",
       "1677394  1677395  Michael  2010      M  17308\n",
       "1677395  1677396   Jayden  2010      M  17152\n",
       "1677396  1677397  William  2010      M  17030"
      ]
     },
     "execution_count": 8,
     "metadata": {},
     "output_type": "execute_result"
    }
   ],
   "source": [
    "#7\n",
    "df[(df['Year'] == 2010) & (df['Gender'] == 'M')].head(5)"
   ]
  },
  {
   "cell_type": "markdown",
   "id": "7e06c20c",
   "metadata": {},
   "source": [
    "### 8. Знайдіть найпопулярніше ім’я за результатами одного року (ім’я, для якого Count максимальне).\n"
   ]
  },
  {
   "cell_type": "code",
   "execution_count": 24,
   "id": "a4724772",
   "metadata": {},
   "outputs": [
    {
     "name": "stdout",
     "output_type": "stream",
     "text": [
      "The name is 'Linda' in 1947\n"
     ]
    }
   ],
   "source": [
    "#8\n",
    "year = 1947\n",
    "filter = df[df['Year'] == year]\n",
    "popular_name = filter.loc[filter['Count'].idxmax()]\n",
    "\n",
    "print(f\"The name is '{popular_name['Name']}' in {year}\")\n"
   ]
  },
  {
   "cell_type": "markdown",
   "id": "e135f0f4",
   "metadata": {},
   "source": [
    "### 9. Підрахуйте кількість записів, для яких Count - мінімальне у наборі."
   ]
  },
  {
   "cell_type": "code",
   "execution_count": 10,
   "id": "fede6dd3",
   "metadata": {},
   "outputs": [
    {
     "data": {
      "text/plain": [
       "254615"
      ]
     },
     "execution_count": 10,
     "metadata": {},
     "output_type": "execute_result"
    }
   ],
   "source": [
    "#9\n",
    "df[df['Count'] == df['Count'].min()].shape[0]"
   ]
  },
  {
   "cell_type": "markdown",
   "id": "1ae6a2d8",
   "metadata": {},
   "source": [
    "### 10. Підрахуйте кількість унікальних імен у кожному році\n"
   ]
  },
  {
   "cell_type": "code",
   "execution_count": 11,
   "id": "62694f22",
   "metadata": {},
   "outputs": [
    {
     "data": {
      "text/html": [
       "<div>\n",
       "<style scoped>\n",
       "    .dataframe tbody tr th:only-of-type {\n",
       "        vertical-align: middle;\n",
       "    }\n",
       "\n",
       "    .dataframe tbody tr th {\n",
       "        vertical-align: top;\n",
       "    }\n",
       "\n",
       "    .dataframe thead th {\n",
       "        text-align: right;\n",
       "    }\n",
       "</style>\n",
       "<table border=\"1\" class=\"dataframe\">\n",
       "  <thead>\n",
       "    <tr style=\"text-align: right;\">\n",
       "      <th></th>\n",
       "      <th>Name</th>\n",
       "    </tr>\n",
       "    <tr>\n",
       "      <th>Year</th>\n",
       "      <th></th>\n",
       "    </tr>\n",
       "  </thead>\n",
       "  <tbody>\n",
       "    <tr>\n",
       "      <th>1880</th>\n",
       "      <td>1889</td>\n",
       "    </tr>\n",
       "    <tr>\n",
       "      <th>1881</th>\n",
       "      <td>1830</td>\n",
       "    </tr>\n",
       "    <tr>\n",
       "      <th>1882</th>\n",
       "      <td>2012</td>\n",
       "    </tr>\n",
       "    <tr>\n",
       "      <th>1883</th>\n",
       "      <td>1962</td>\n",
       "    </tr>\n",
       "    <tr>\n",
       "      <th>1884</th>\n",
       "      <td>2158</td>\n",
       "    </tr>\n",
       "    <tr>\n",
       "      <th>...</th>\n",
       "      <td>...</td>\n",
       "    </tr>\n",
       "    <tr>\n",
       "      <th>2010</th>\n",
       "      <td>31603</td>\n",
       "    </tr>\n",
       "    <tr>\n",
       "      <th>2011</th>\n",
       "      <td>31418</td>\n",
       "    </tr>\n",
       "    <tr>\n",
       "      <th>2012</th>\n",
       "      <td>31236</td>\n",
       "    </tr>\n",
       "    <tr>\n",
       "      <th>2013</th>\n",
       "      <td>30774</td>\n",
       "    </tr>\n",
       "    <tr>\n",
       "      <th>2014</th>\n",
       "      <td>30579</td>\n",
       "    </tr>\n",
       "  </tbody>\n",
       "</table>\n",
       "<p>135 rows × 1 columns</p>\n",
       "</div>"
      ],
      "text/plain": [
       "       Name\n",
       "Year       \n",
       "1880   1889\n",
       "1881   1830\n",
       "1882   2012\n",
       "1883   1962\n",
       "1884   2158\n",
       "...     ...\n",
       "2010  31603\n",
       "2011  31418\n",
       "2012  31236\n",
       "2013  30774\n",
       "2014  30579\n",
       "\n",
       "[135 rows x 1 columns]"
      ]
     },
     "execution_count": 11,
     "metadata": {},
     "output_type": "execute_result"
    }
   ],
   "source": [
    "#10\n",
    "df.groupby('Year')[['Name']].nunique()"
   ]
  },
  {
   "cell_type": "markdown",
   "id": "fd6f1386",
   "metadata": {},
   "source": [
    "### 11. Знайдіть рік із найбільшою кількістю унікальних імен."
   ]
  },
  {
   "cell_type": "code",
   "execution_count": 12,
   "id": "d515f949",
   "metadata": {},
   "outputs": [
    {
     "data": {
      "text/html": [
       "<div>\n",
       "<style scoped>\n",
       "    .dataframe tbody tr th:only-of-type {\n",
       "        vertical-align: middle;\n",
       "    }\n",
       "\n",
       "    .dataframe tbody tr th {\n",
       "        vertical-align: top;\n",
       "    }\n",
       "\n",
       "    .dataframe thead th {\n",
       "        text-align: right;\n",
       "    }\n",
       "</style>\n",
       "<table border=\"1\" class=\"dataframe\">\n",
       "  <thead>\n",
       "    <tr style=\"text-align: right;\">\n",
       "      <th></th>\n",
       "      <th>Name</th>\n",
       "    </tr>\n",
       "    <tr>\n",
       "      <th>Year</th>\n",
       "      <th></th>\n",
       "    </tr>\n",
       "  </thead>\n",
       "  <tbody>\n",
       "    <tr>\n",
       "      <th>2008</th>\n",
       "      <td>32488</td>\n",
       "    </tr>\n",
       "  </tbody>\n",
       "</table>\n",
       "</div>"
      ],
      "text/plain": [
       "       Name\n",
       "Year       \n",
       "2008  32488"
      ]
     },
     "execution_count": 12,
     "metadata": {},
     "output_type": "execute_result"
    }
   ],
   "source": [
    "#11\n",
    "unique_names_summary = df.groupby('Year')[['Name']].nunique()\n",
    "unique_names_summary.loc[[unique_names_summary['Name'].idxmax()]]"
   ]
  },
  {
   "cell_type": "markdown",
   "id": "ac49482c",
   "metadata": {},
   "source": [
    "### 12. Знайдіть найпопулярніше ім’я в році з найбільшою кількістю унікальних імен (тобто у 2008 році)\n"
   ]
  },
  {
   "cell_type": "code",
   "execution_count": 13,
   "id": "b484cc75",
   "metadata": {},
   "outputs": [
    {
     "data": {
      "text/plain": [
       "'Jacob'"
      ]
     },
     "execution_count": 13,
     "metadata": {},
     "output_type": "execute_result"
    }
   ],
   "source": [
    "#12\n",
    "unique_names_summary = df.groupby('Year')[['Name']].nunique()\n",
    "year_with_max_unique_names = unique_names_summary['Name'].idxmax()\n",
    "most_popular_name= df[df['Year'] == year_with_max_unique_names].sort_values(by='Count', ascending=False).iloc[0]\n",
    "\n",
    "most_popular_name['Name']"
   ]
  },
  {
   "cell_type": "markdown",
   "id": "b5386543",
   "metadata": {},
   "source": [
    "### 18. Підрахуйте кількість років, коли дівчаток народжувалось більше, ніж хлопчиків."
   ]
  },
  {
   "cell_type": "code",
   "execution_count": 27,
   "id": "8d1d3bb1",
   "metadata": {},
   "outputs": [
    {
     "data": {
      "text/plain": [
       "54"
      ]
     },
     "execution_count": 27,
     "metadata": {},
     "output_type": "execute_result"
    }
   ],
   "source": [
    "#18\n",
    "gender_counts_by_year = df.groupby(['Year', 'Gender'])['Count'].sum().unstack()\n",
    "year_count_f = (gender_counts_by_year['F'] > gender_counts_by_year['M']).sum()\n",
    "\n",
    "year_count_f"
   ]
  },
  {
   "cell_type": "markdown",
   "id": "3100fc72",
   "metadata": {},
   "source": [
    "### 19. Накресліть графік загальної кількості народжень хлопчиків та дівчаток на рік."
   ]
  },
  {
   "cell_type": "code",
   "execution_count": 15,
   "id": "d414fb2f",
   "metadata": {},
   "outputs": [
    {
     "data": {
      "text/plain": [
       "<AxesSubplot:xlabel='Year', ylabel='Total births per year'>"
      ]
     },
     "execution_count": 15,
     "metadata": {},
     "output_type": "execute_result"
    },
    {
     "data": {
      "image/png": "[encoded data removed]",
      "text/plain": [
       "<Figure size 1000x600 with 1 Axes>"
      ]
     },
     "metadata": {},
     "output_type": "display_data"
    }
   ],
   "source": [
    "#19\n",
    "df.groupby(['Year', 'Gender'])['Count'].sum().unstack().plot(figsize=(10, 6), xlabel='Year', ylabel='Total births per year')"
   ]
  },
  {
   "cell_type": "markdown",
   "id": "040111ce",
   "metadata": {},
   "source": [
    "### 20. Підрахуйте кількість гендерно нейтральних імен (однакових для дівчат та хлопців)\n"
   ]
  },
  {
   "cell_type": "code",
   "execution_count": 16,
   "id": "ec63fbb0",
   "metadata": {},
   "outputs": [
    {
     "data": {
      "text/plain": [
       "10221"
      ]
     },
     "execution_count": 16,
     "metadata": {},
     "output_type": "execute_result"
    }
   ],
   "source": [
    "#20\n",
    "gender_neutral_name_count = df.groupby(['Name', 'Gender'])['Count'].sum().unstack(fill_value=0).query(\"F > 0 and M > 0\").shape[0]\n",
    "\n",
    "gender_neutral_name_count"
   ]
  },
  {
   "cell_type": "markdown",
   "id": "2e89e8bc",
   "metadata": {},
   "source": [
    "### 21. Порахуйте, скільки разів хлопчиків називали Barbara"
   ]
  },
  {
   "cell_type": "code",
   "execution_count": 17,
   "id": "a54870de",
   "metadata": {},
   "outputs": [
    {
     "data": {
      "text/plain": [
       "4139"
      ]
     },
     "execution_count": 17,
     "metadata": {},
     "output_type": "execute_result"
    }
   ],
   "source": [
    "#21\n",
    "boys_named_barbara = df[(df['Name'] == 'Barbara') & (df['Gender'] == 'M')]['Count'].sum()\n",
    "\n",
    "boys_named_barbara"
   ]
  },
  {
   "cell_type": "markdown",
   "id": "18c06d21",
   "metadata": {},
   "source": [
    "### 23. Знати найпопулярніші гендерно-нейтральні імена (ті, що присутні кожного року)\n"
   ]
  },
  {
   "cell_type": "code",
   "execution_count": 28,
   "id": "d0efcd66",
   "metadata": {},
   "outputs": [
    {
     "data": {
      "text/html": [
       "<div>\n",
       "<style scoped>\n",
       "    .dataframe tbody tr th:only-of-type {\n",
       "        vertical-align: middle;\n",
       "    }\n",
       "\n",
       "    .dataframe tbody tr th {\n",
       "        vertical-align: top;\n",
       "    }\n",
       "\n",
       "    .dataframe thead th {\n",
       "        text-align: right;\n",
       "    }\n",
       "</style>\n",
       "<table border=\"1\" class=\"dataframe\">\n",
       "  <thead>\n",
       "    <tr style=\"text-align: right;\">\n",
       "      <th>Gender</th>\n",
       "      <th>F</th>\n",
       "      <th>M</th>\n",
       "      <th>Total</th>\n",
       "    </tr>\n",
       "    <tr>\n",
       "      <th>Name</th>\n",
       "      <th></th>\n",
       "      <th></th>\n",
       "      <th></th>\n",
       "    </tr>\n",
       "  </thead>\n",
       "  <tbody>\n",
       "    <tr>\n",
       "      <th>James</th>\n",
       "      <td>23177</td>\n",
       "      <td>5105919</td>\n",
       "      <td>5129096</td>\n",
       "    </tr>\n",
       "    <tr>\n",
       "      <th>John</th>\n",
       "      <td>21647</td>\n",
       "      <td>5084943</td>\n",
       "      <td>5106590</td>\n",
       "    </tr>\n",
       "    <tr>\n",
       "      <th>Robert</th>\n",
       "      <td>20090</td>\n",
       "      <td>4796695</td>\n",
       "      <td>4816785</td>\n",
       "    </tr>\n",
       "    <tr>\n",
       "      <th>Michael</th>\n",
       "      <td>21607</td>\n",
       "      <td>4309198</td>\n",
       "      <td>4330805</td>\n",
       "    </tr>\n",
       "    <tr>\n",
       "      <th>Mary</th>\n",
       "      <td>4115282</td>\n",
       "      <td>15159</td>\n",
       "      <td>4130441</td>\n",
       "    </tr>\n",
       "    <tr>\n",
       "      <th>William</th>\n",
       "      <td>15895</td>\n",
       "      <td>4055473</td>\n",
       "      <td>4071368</td>\n",
       "    </tr>\n",
       "    <tr>\n",
       "      <th>David</th>\n",
       "      <td>12853</td>\n",
       "      <td>3577704</td>\n",
       "      <td>3590557</td>\n",
       "    </tr>\n",
       "    <tr>\n",
       "      <th>Joseph</th>\n",
       "      <td>10592</td>\n",
       "      <td>2570095</td>\n",
       "      <td>2580687</td>\n",
       "    </tr>\n",
       "    <tr>\n",
       "      <th>Richard</th>\n",
       "      <td>9537</td>\n",
       "      <td>2555330</td>\n",
       "      <td>2564867</td>\n",
       "    </tr>\n",
       "    <tr>\n",
       "      <th>Charles</th>\n",
       "      <td>12368</td>\n",
       "      <td>2364332</td>\n",
       "      <td>2376700</td>\n",
       "    </tr>\n",
       "    <tr>\n",
       "      <th>Thomas</th>\n",
       "      <td>8437</td>\n",
       "      <td>2283080</td>\n",
       "      <td>2291517</td>\n",
       "    </tr>\n",
       "    <tr>\n",
       "      <th>Christopher</th>\n",
       "      <td>9435</td>\n",
       "      <td>1994742</td>\n",
       "      <td>2004177</td>\n",
       "    </tr>\n",
       "    <tr>\n",
       "      <th>Daniel</th>\n",
       "      <td>8105</td>\n",
       "      <td>1868775</td>\n",
       "      <td>1876880</td>\n",
       "    </tr>\n",
       "    <tr>\n",
       "      <th>Elizabeth</th>\n",
       "      <td>1601128</td>\n",
       "      <td>5154</td>\n",
       "      <td>1606282</td>\n",
       "    </tr>\n",
       "    <tr>\n",
       "      <th>Patricia</th>\n",
       "      <td>1570567</td>\n",
       "      <td>4962</td>\n",
       "      <td>1575529</td>\n",
       "    </tr>\n",
       "    <tr>\n",
       "      <th>Matthew</th>\n",
       "      <td>5468</td>\n",
       "      <td>1553203</td>\n",
       "      <td>1558671</td>\n",
       "    </tr>\n",
       "  </tbody>\n",
       "</table>\n",
       "</div>"
      ],
      "text/plain": [
       "Gender             F        M    Total\n",
       "Name                                  \n",
       "James          23177  5105919  5129096\n",
       "John           21647  5084943  5106590\n",
       "Robert         20090  4796695  4816785\n",
       "Michael        21607  4309198  4330805\n",
       "Mary         4115282    15159  4130441\n",
       "William        15895  4055473  4071368\n",
       "David          12853  3577704  3590557\n",
       "Joseph         10592  2570095  2580687\n",
       "Richard         9537  2555330  2564867\n",
       "Charles        12368  2364332  2376700\n",
       "Thomas          8437  2283080  2291517\n",
       "Christopher     9435  1994742  2004177\n",
       "Daniel          8105  1868775  1876880\n",
       "Elizabeth    1601128     5154  1606282\n",
       "Patricia     1570567     4962  1575529\n",
       "Matthew         5468  1553203  1558671"
      ]
     },
     "execution_count": 28,
     "metadata": {},
     "output_type": "execute_result"
    }
   ],
   "source": [
    "#23\n",
    "gender_neutral_names = df.groupby(['Name', 'Gender'])['Count'].sum().unstack(fill_value=0)\n",
    "gender_neutral_names = gender_neutral_names.query(\"F > 0 and M > 0\")\n",
    "gender_neutral_names['Total'] = gender_neutral_names['F'] + gender_neutral_names['M']\n",
    "top_16_gender_neutral_names = gender_neutral_names.sort_values(by='Total', ascending=False).head(16)\n",
    "\n",
    "top_16_gender_neutral_names"
   ]
  },
  {
   "cell_type": "markdown",
   "id": "e2f0f5e4",
   "metadata": {},
   "source": [
    "### 25. Побудувати графіки розподілення кількості імен John та Mary по роках без залежності до статі."
   ]
  },
  {
   "cell_type": "code",
   "execution_count": 19,
   "id": "ba4c72fd",
   "metadata": {},
   "outputs": [
    {
     "data": {
      "text/plain": [
       "<AxesSubplot:xlabel='Year'>"
      ]
     },
     "execution_count": 19,
     "metadata": {},
     "output_type": "execute_result"
    },
    {
     "data": {
      "image/png": "[encoded data removed]",
      "text/plain": [
       "<Figure size 1000x600 with 1 Axes>"
      ]
     },
     "metadata": {},
     "output_type": "display_data"
    }
   ],
   "source": [
    "#25\n",
    "df[df['Name'].isin(['John', 'Mary'])].groupby(['Year', 'Name'])['Count'].sum().unstack().plot(figsize=(10, 6), xlabel='Year')"
   ]
  },
  {
   "cell_type": "code",
   "execution_count": 20,
   "id": "7b3ce49e",
   "metadata": {},
   "outputs": [
    {
     "data": {
      "text/html": [
       "<div>\n",
       "<style scoped>\n",
       "    .dataframe tbody tr th:only-of-type {\n",
       "        vertical-align: middle;\n",
       "    }\n",
       "\n",
       "    .dataframe tbody tr th {\n",
       "        vertical-align: top;\n",
       "    }\n",
       "\n",
       "    .dataframe thead th {\n",
       "        text-align: right;\n",
       "    }\n",
       "</style>\n",
       "<table border=\"1\" class=\"dataframe\">\n",
       "  <thead>\n",
       "    <tr style=\"text-align: right;\">\n",
       "      <th></th>\n",
       "      <th>Name</th>\n",
       "      <th>Count</th>\n",
       "    </tr>\n",
       "    <tr>\n",
       "      <th>Year</th>\n",
       "      <th></th>\n",
       "      <th></th>\n",
       "    </tr>\n",
       "  </thead>\n",
       "  <tbody>\n",
       "    <tr>\n",
       "      <th>1880</th>\n",
       "      <td>John</td>\n",
       "      <td>9655</td>\n",
       "    </tr>\n",
       "    <tr>\n",
       "      <th>1881</th>\n",
       "      <td>John</td>\n",
       "      <td>8769</td>\n",
       "    </tr>\n",
       "    <tr>\n",
       "      <th>1882</th>\n",
       "      <td>John</td>\n",
       "      <td>9557</td>\n",
       "    </tr>\n",
       "    <tr>\n",
       "      <th>1883</th>\n",
       "      <td>John</td>\n",
       "      <td>8894</td>\n",
       "    </tr>\n",
       "    <tr>\n",
       "      <th>1884</th>\n",
       "      <td>John</td>\n",
       "      <td>9388</td>\n",
       "    </tr>\n",
       "    <tr>\n",
       "      <th>...</th>\n",
       "      <td>...</td>\n",
       "      <td>...</td>\n",
       "    </tr>\n",
       "    <tr>\n",
       "      <th>2010</th>\n",
       "      <td>Isabella</td>\n",
       "      <td>22883</td>\n",
       "    </tr>\n",
       "    <tr>\n",
       "      <th>2011</th>\n",
       "      <td>Sophia</td>\n",
       "      <td>21816</td>\n",
       "    </tr>\n",
       "    <tr>\n",
       "      <th>2012</th>\n",
       "      <td>Sophia</td>\n",
       "      <td>22267</td>\n",
       "    </tr>\n",
       "    <tr>\n",
       "      <th>2013</th>\n",
       "      <td>Sophia</td>\n",
       "      <td>21147</td>\n",
       "    </tr>\n",
       "    <tr>\n",
       "      <th>2014</th>\n",
       "      <td>Emma</td>\n",
       "      <td>20799</td>\n",
       "    </tr>\n",
       "  </tbody>\n",
       "</table>\n",
       "<p>135 rows × 2 columns</p>\n",
       "</div>"
      ],
      "text/plain": [
       "          Name  Count\n",
       "Year                 \n",
       "1880      John   9655\n",
       "1881      John   8769\n",
       "1882      John   9557\n",
       "1883      John   8894\n",
       "1884      John   9388\n",
       "...        ...    ...\n",
       "2010  Isabella  22883\n",
       "2011    Sophia  21816\n",
       "2012    Sophia  22267\n",
       "2013    Sophia  21147\n",
       "2014      Emma  20799\n",
       "\n",
       "[135 rows x 2 columns]"
      ]
     },
     "execution_count": 20,
     "metadata": {},
     "output_type": "execute_result"
    }
   ],
   "source": [
    "#27\n",
    "most_popular_names_per_year = df.loc[df.groupby('Year')['Count'].idxmax()]\n",
    "result = most_popular_names_per_year[['Year', 'Name', 'Count']].groupby('Year').agg({'Name': 'first', 'Count': 'max'})\n",
    "\n",
    "result"
   ]
  }
 ],
 "metadata": {
  "kernelspec": {
   "display_name": "Python 3 (ipykernel)",
   "language": "python",
   "name": "python3"
  },
  "language_info": {
   "codemirror_mode": {
    "name": "ipython",
    "version": 3
   },
   "file_extension": ".py",
   "mimetype": "text/x-python",
   "name": "python",
   "nbconvert_exporter": "python",
   "pygments_lexer": "ipython3",
   "version": "3.7.1"
  }
 },
 "nbformat": 4,
 "nbformat_minor": 5
}
